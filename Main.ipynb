{
 "cells": [
  {
   "cell_type": "markdown",
   "metadata": {},
   "source": [
    "## Import Funtions from individual files."
   ]
  },
  {
   "cell_type": "code",
   "execution_count": null,
   "metadata": {},
   "outputs": [],
   "source": [
    "from MyConfusionMatrix import *\n",
    "from TrainMyClassifier import *\n",
    "from MyCrossValidate import *\n",
    "from TestMyClassifier import *\n",
    "\n",
    "# To load .mat file.\n",
    "import scipy.io as io"
   ]
  },
  {
   "cell_type": "markdown",
   "metadata": {},
   "source": [
    "## Load training data"
   ]
  },
  {
   "cell_type": "code",
   "execution_count": null,
   "metadata": {},
   "outputs": [],
   "source": [
    "train = io.loadmat(\"Proj2FeatVecsSet1.mat\")['Proj2FeatVecsSet1']\n",
    "# label shape is [25000, 5] as [num_sample, num_class]\n",
    "label = io.loadmat(\"Proj2TargetOutputsSet1.mat\")['Proj2TargetOutputsSet1']\n",
    "data = np.concatenate((train, label), axis=1)\n",
    "np.random.shuffle(data)\n",
    "train = data[:,:-5]\n",
    "label = data[:,-5:]"
   ]
  },
  {
   "cell_type": "markdown",
   "metadata": {},
   "source": [
    "## Cross validate to get estimated parameters"
   ]
  },
  {
   "cell_type": "code",
   "execution_count": null,
   "metadata": {},
   "outputs": [],
   "source": [
    "Ytrain, EstParameter, EstConfMatrices, ConfMatrix = MyCrossValidate(train, label, 5)"
   ]
  },
  {
   "cell_type": "markdown",
   "metadata": {},
   "source": [
    " ## Saving the Estimated weights "
   ]
  },
  {
   "cell_type": "code",
   "execution_count": null,
   "metadata": {},
   "outputs": [],
   "source": [
    "np.save(\"Ytrain\", Ytrain)\n",
    "np.save(\"EstParameter\", EstParameter)\n",
    "np.save(\"EstConfMatrices\",EstConfMatrices )\n",
    "np.save(\"ConfMatrix\", ConfMatrix)"
   ]
  },
  {
   "cell_type": "markdown",
   "metadata": {},
   "source": [
    "# To Test with our trained parameters start here..."
   ]
  },
  {
   "cell_type": "code",
   "execution_count": null,
   "metadata": {},
   "outputs": [],
   "source": [
    "from MyConfusionMatrix import *\n",
    "from TrainMyClassifier import *\n",
    "from MyCrossValidate import *\n",
    "from TestMyClassifier import *\n",
    "\n",
    "# To load .mat file.\n",
    "import scipy.io as io\n",
    "import numpy as np"
   ]
  },
  {
   "cell_type": "markdown",
   "metadata": {},
   "source": [
    "### Downloading  trained weights"
   ]
  },
  {
   "cell_type": "code",
   "execution_count": null,
   "metadata": {},
   "outputs": [],
   "source": [
    "from tqdm import tqdm\n",
    "import requests\n",
    "import math\n",
    "\n",
    "\n",
    "url = \"https://rawgit.com/srajanpaliwal/CAP6610-Project-2_weights/master/EstParameter_svm.npy\"\n",
    "\n",
    "r = requests.get(url, stream=True)\n",
    "\n",
    "total_size = int(r.headers.get('content-length', 0)); \n",
    "block_size = 1024\n",
    "wrote = 0 \n",
    "with open('EstParameter_svm.npy', 'wb') as f:\n",
    "    for data in tqdm(r.iter_content(block_size), total=math.ceil(total_size//block_size) , unit='KB', unit_scale=True):\n",
    "        wrote = wrote  + len(data)\n",
    "        f.write(data)\n",
    "if total_size != 0 and wrote != total_size:\n",
    "    print(\"ERROR, something went wrong\")  "
   ]
  },
  {
   "cell_type": "code",
   "execution_count": null,
   "metadata": {},
   "outputs": [],
   "source": [
    "EstParameters = np.load('EstParameter_svm.npy')[0][1]"
   ]
  },
  {
   "cell_type": "code",
   "execution_count": null,
   "metadata": {},
   "outputs": [],
   "source": [
    "Parameters = {'algorithm':'SVM', 'parameters':EstParameters['hyper']}"
   ]
  },
  {
   "cell_type": "markdown",
   "metadata": {},
   "source": [
    "### Now, we have loaded our trained weights in 'EstParameters' and 'Parameters'"
   ]
  },
  {
   "cell_type": "markdown",
   "metadata": {},
   "source": [
    "## Load the test data set"
   ]
  },
  {
   "cell_type": "code",
   "execution_count": null,
   "metadata": {},
   "outputs": [],
   "source": [
    "XTest = io.loadmat(\"Insert file name here\")['Insert vector name here']\n",
    "YTest = io.loadmat(\"Insert file name here\")['Insert vector name here']"
   ]
  },
  {
   "cell_type": "markdown",
   "metadata": {},
   "source": [
    "## Run TestMyClassifier to get YTest"
   ]
  },
  {
   "cell_type": "code",
   "execution_count": null,
   "metadata": {},
   "outputs": [],
   "source": [
    "YTestPredicted = TestMyClassifier(XTest,Parameters,EstParameters)"
   ]
  },
  {
   "cell_type": "markdown",
   "metadata": {},
   "source": [
    "## Test accuracy"
   ]
  },
  {
   "cell_type": "code",
   "execution_count": null,
   "metadata": {},
   "outputs": [],
   "source": [
    "MyConfusionMatrix(np.argmax(YTestPredicted, axis=1), np.argmax(YTest, axis=1))"
   ]
  }
 ],
 "metadata": {
  "kernelspec": {
   "display_name": "Python (ML_2)",
   "language": "python",
   "name": "ml_2"
  },
  "language_info": {
   "codemirror_mode": {
    "name": "ipython",
    "version": 3
   },
   "file_extension": ".py",
   "mimetype": "text/x-python",
   "name": "python",
   "nbconvert_exporter": "python",
   "pygments_lexer": "ipython3",
   "version": "3.6.5"
  }
 },
 "nbformat": 4,
 "nbformat_minor": 2
}
