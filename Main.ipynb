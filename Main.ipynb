{
 "cells": [
  {
   "cell_type": "markdown",
   "metadata": {},
   "source": [
    "## Import Funtions from individual files."
   ]
  },
  {
   "cell_type": "code",
   "execution_count": 1,
   "metadata": {},
   "outputs": [],
   "source": [
    "from MyConfusionMatrix import *\n",
    "from TrainMyClassifier import *\n",
    "from MyCrossValidate import *\n",
    "from TestMyClassifier import *\n",
    "\n",
    "# To load .mat file.\n",
    "import scipy.io as io"
   ]
  },
  {
   "cell_type": "markdown",
   "metadata": {},
   "source": [
    "## Load training data"
   ]
  },
  {
   "cell_type": "code",
   "execution_count": 2,
   "metadata": {},
   "outputs": [],
   "source": [
    "train = io.loadmat(\"Proj2FeatVecsSet1.mat\")['Proj2FeatVecsSet1']\n",
    "# label shape is [25000, 5] as [num_sample, num_class]\n",
    "label = io.loadmat(\"Proj2TargetOutputsSet1.mat\")['Proj2TargetOutputsSet1']\n",
    "data = np.concatenate((train, label), axis=1)\n",
    "np.random.shuffle(data)\n",
    "train = data[:,:-5]\n",
    "train = train[:100]\n",
    "label = data[:,-5:]\n",
    "label = label[:100]"
   ]
  },
  {
   "cell_type": "markdown",
   "metadata": {},
   "source": [
    "## Cross validate to get estimated parameters"
   ]
  },
  {
   "cell_type": "code",
   "execution_count": 3,
   "metadata": {},
   "outputs": [
    {
     "name": "stderr",
     "output_type": "stream",
     "text": [
      "Searching Parameters for RVM:   0%|          | 0/9 [00:00<?, ?it/s]"
     ]
    },
    {
     "name": "stdout",
     "output_type": "stream",
     "text": [
      "no of Classifiers 10.0\n",
      "no of Classifiers 10.0\n",
      "no of Classifiers 10.0\n",
      "no of Classifiers 10.0\n",
      "no of Classifiers 10.0\n"
     ]
    },
    {
     "name": "stderr",
     "output_type": "stream",
     "text": [
      "Searching Parameters for RVM:  11%|█         | 1/9 [00:00<00:05,  1.58it/s]"
     ]
    },
    {
     "name": "stdout",
     "output_type": "stream",
     "text": [
      "no of Classifiers 10.0\n",
      "no of Classifiers 10.0\n",
      "no of Classifiers 10.0\n",
      "no of Classifiers 10.0\n",
      "no of Classifiers 10.0\n"
     ]
    },
    {
     "name": "stderr",
     "output_type": "stream",
     "text": [
      "Searching Parameters for RVM:  22%|██▏       | 2/9 [00:01<00:03,  1.78it/s]"
     ]
    },
    {
     "name": "stdout",
     "output_type": "stream",
     "text": [
      "no of Classifiers 10.0\n",
      "no of Classifiers 10.0\n",
      "no of Classifiers 10.0\n",
      "no of Classifiers 10.0\n",
      "no of Classifiers 10.0\n"
     ]
    },
    {
     "name": "stderr",
     "output_type": "stream",
     "text": [
      "Searching Parameters for RVM:  33%|███▎      | 3/9 [00:01<00:03,  1.81it/s]"
     ]
    },
    {
     "name": "stdout",
     "output_type": "stream",
     "text": [
      "no of Classifiers 10.0\n",
      "no of Classifiers 10.0\n",
      "no of Classifiers 10.0\n",
      "no of Classifiers 10.0\n",
      "no of Classifiers 10.0\n"
     ]
    },
    {
     "name": "stderr",
     "output_type": "stream",
     "text": [
      "Searching Parameters for RVM:  44%|████▍     | 4/9 [00:02<00:02,  1.68it/s]"
     ]
    },
    {
     "name": "stdout",
     "output_type": "stream",
     "text": [
      "no of Classifiers 10.0\n",
      "no of Classifiers 10.0\n",
      "no of Classifiers 10.0\n",
      "no of Classifiers 10.0\n",
      "no of Classifiers 10.0\n"
     ]
    },
    {
     "name": "stderr",
     "output_type": "stream",
     "text": [
      "Searching Parameters for RVM:  56%|█████▌    | 5/9 [00:03<00:02,  1.60it/s]"
     ]
    },
    {
     "name": "stdout",
     "output_type": "stream",
     "text": [
      "no of Classifiers 10.0\n",
      "no of Classifiers 10.0\n",
      "no of Classifiers 10.0\n",
      "no of Classifiers 10.0\n",
      "no of Classifiers 10.0\n"
     ]
    },
    {
     "name": "stderr",
     "output_type": "stream",
     "text": [
      "Searching Parameters for RVM:  67%|██████▋   | 6/9 [00:03<00:01,  1.56it/s]"
     ]
    },
    {
     "name": "stdout",
     "output_type": "stream",
     "text": [
      "no of Classifiers 10.0\n",
      "no of Classifiers 10.0\n",
      "no of Classifiers 10.0\n",
      "no of Classifiers 10.0\n",
      "no of Classifiers 10.0\n"
     ]
    },
    {
     "name": "stderr",
     "output_type": "stream",
     "text": [
      "Searching Parameters for RVM:  78%|███████▊  | 7/9 [00:05<00:01,  1.31it/s]"
     ]
    },
    {
     "name": "stdout",
     "output_type": "stream",
     "text": [
      "no of Classifiers 10.0\n",
      "no of Classifiers 10.0\n",
      "no of Classifiers 10.0\n",
      "no of Classifiers 10.0\n",
      "no of Classifiers 10.0\n"
     ]
    },
    {
     "name": "stderr",
     "output_type": "stream",
     "text": [
      "Searching Parameters for RVM:  89%|████████▉ | 8/9 [00:06<00:00,  1.16it/s]"
     ]
    },
    {
     "name": "stdout",
     "output_type": "stream",
     "text": [
      "no of Classifiers 10.0\n",
      "no of Classifiers 10.0\n",
      "no of Classifiers 10.0\n",
      "no of Classifiers 10.0\n",
      "no of Classifiers 10.0\n"
     ]
    },
    {
     "name": "stderr",
     "output_type": "stream",
     "text": [
      "Searching Parameters for RVM: 100%|██████████| 9/9 [00:08<00:00,  1.08it/s]\n"
     ]
    },
    {
     "name": "stdout",
     "output_type": "stream",
     "text": [
      "Average cross validation score for RVM is 85.0%.\n",
      "no of Classifiers 10.0\n"
     ]
    },
    {
     "ename": "TypeError",
     "evalue": "list indices must be integers or slices, not str",
     "output_type": "error",
     "traceback": [
      "\u001b[0;31m---------------------------------------------------------------------------\u001b[0m",
      "\u001b[0;31mTypeError\u001b[0m                                 Traceback (most recent call last)",
      "\u001b[0;32m<ipython-input-3-a12112cb91ec>\u001b[0m in \u001b[0;36m<module>\u001b[0;34m()\u001b[0m\n\u001b[0;32m----> 1\u001b[0;31m \u001b[0mYtrain\u001b[0m\u001b[0;34m,\u001b[0m \u001b[0mEstParameter\u001b[0m\u001b[0;34m,\u001b[0m \u001b[0mEstConfMatrices\u001b[0m\u001b[0;34m,\u001b[0m \u001b[0mConfMatrix\u001b[0m \u001b[0;34m=\u001b[0m \u001b[0mMyCrossValidate\u001b[0m\u001b[0;34m(\u001b[0m\u001b[0mtrain\u001b[0m\u001b[0;34m,\u001b[0m \u001b[0mlabel\u001b[0m\u001b[0;34m,\u001b[0m \u001b[0;36m5\u001b[0m\u001b[0;34m)\u001b[0m\u001b[0;34m\u001b[0m\u001b[0m\n\u001b[0m",
      "\u001b[0;32m~/Desktop/CAP6610-Project-2/MyCrossValidate.py\u001b[0m in \u001b[0;36mMyCrossValidate\u001b[0;34m(XTrain, ClassLabels, Nf)\u001b[0m\n\u001b[1;32m    145\u001b[0m                 \u001b[0mprint\u001b[0m\u001b[0;34m(\u001b[0m\u001b[0;34m'Number of support vector for validation set {}: {}'\u001b[0m\u001b[0;34m.\u001b[0m\u001b[0mformat\u001b[0m\u001b[0;34m(\u001b[0m\u001b[0mindex\u001b[0m\u001b[0;34m,\u001b[0m \u001b[0mlen\u001b[0m\u001b[0;34m(\u001b[0m\u001b[0mEstparameters\u001b[0m\u001b[0;34m[\u001b[0m\u001b[0;34m'support_vectors'\u001b[0m\u001b[0;34m]\u001b[0m\u001b[0;34m)\u001b[0m\u001b[0;34m)\u001b[0m\u001b[0;34m)\u001b[0m\u001b[0;34m\u001b[0m\u001b[0m\n\u001b[1;32m    146\u001b[0m             \u001b[0;32melif\u001b[0m  \u001b[0malgo\u001b[0m \u001b[0;34m==\u001b[0m \u001b[0;34m'RVM'\u001b[0m\u001b[0;34m:\u001b[0m\u001b[0;34m\u001b[0m\u001b[0m\n\u001b[0;32m--> 147\u001b[0;31m                 \u001b[0mprint\u001b[0m\u001b[0;34m(\u001b[0m\u001b[0;34m'Number of relavance vector for validation set {}: {}'\u001b[0m\u001b[0;34m.\u001b[0m\u001b[0mformat\u001b[0m\u001b[0;34m(\u001b[0m\u001b[0mindex\u001b[0m\u001b[0;34m,\u001b[0m \u001b[0mlen\u001b[0m\u001b[0;34m(\u001b[0m\u001b[0mEstparameters\u001b[0m\u001b[0;34m[\u001b[0m\u001b[0;34m'relevant_vectors'\u001b[0m\u001b[0;34m]\u001b[0m\u001b[0;34m)\u001b[0m\u001b[0;34m)\u001b[0m\u001b[0;34m)\u001b[0m\u001b[0;34m\u001b[0m\u001b[0m\n\u001b[0m\u001b[1;32m    148\u001b[0m \u001b[0;34m\u001b[0m\u001b[0m\n\u001b[1;32m    149\u001b[0m             \u001b[0;31m# calculating confusion matrix for validation set\u001b[0m\u001b[0;34m\u001b[0m\u001b[0;34m\u001b[0m\u001b[0m\n",
      "\u001b[0;31mTypeError\u001b[0m: list indices must be integers or slices, not str"
     ]
    }
   ],
   "source": [
    "Ytrain, EstParameter, EstConfMatrices, ConfMatrix = MyCrossValidate(train, label, 5)"
   ]
  },
  {
   "cell_type": "code",
   "execution_count": null,
   "metadata": {},
   "outputs": [],
   "source": []
  },
  {
   "cell_type": "code",
   "execution_count": null,
   "metadata": {},
   "outputs": [],
   "source": []
  },
  {
   "cell_type": "code",
   "execution_count": null,
   "metadata": {},
   "outputs": [],
   "source": []
  }
 ],
 "metadata": {
  "kernelspec": {
   "display_name": "Python 3",
   "language": "python",
   "name": "python3"
  },
  "language_info": {
   "codemirror_mode": {
    "name": "ipython",
    "version": 3
   },
   "file_extension": ".py",
   "mimetype": "text/x-python",
   "name": "python",
   "nbconvert_exporter": "python",
   "pygments_lexer": "ipython3",
   "version": "3.6.4"
  }
 },
 "nbformat": 4,
 "nbformat_minor": 2
}
