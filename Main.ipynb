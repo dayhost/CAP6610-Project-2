{
 "cells": [
  {
   "cell_type": "markdown",
   "metadata": {},
   "source": [
    "## Import Funtions from individual files."
   ]
  },
  {
   "cell_type": "code",
   "execution_count": 1,
   "metadata": {},
   "outputs": [],
   "source": [
    "from MyConfusionMatrix import *\n",
    "from TrainMyClassifier import *\n",
    "from MyCrossValidate import *\n",
    "from TestMyClassifier import *\n",
    "\n",
    "# To load .mat file.\n",
    "import scipy.io as io"
   ]
  },
  {
   "cell_type": "markdown",
   "metadata": {},
   "source": [
    "## Load training data"
   ]
  },
  {
   "cell_type": "code",
   "execution_count": 2,
   "metadata": {},
   "outputs": [],
   "source": [
    "train = io.loadmat(\"Proj2FeatVecsSet1.mat\")['Proj2FeatVecsSet1']\n",
    "# label shape is [25000, 5] as [num_sample, num_class]\n",
    "label = io.loadmat(\"Proj2TargetOutputsSet1.mat\")['Proj2TargetOutputsSet1']\n",
    "data = np.concatenate((train, label), axis=1)\n",
    "np.random.shuffle(data)\n",
    "train = data[:,:-5]\n",
    "train = train[:100]\n",
    "label = data[:,-5:]\n",
    "label = label[:100]"
   ]
  },
  {
   "cell_type": "markdown",
   "metadata": {},
   "source": [
    "## Cross validate to get estimated parameters"
   ]
  },
  {
   "cell_type": "code",
   "execution_count": 3,
   "metadata": {},
   "outputs": [
    {
     "name": "stderr",
     "output_type": "stream",
     "text": [
      "Searching Parameters for SVM: 100%|██████████| 36/36 [00:02<00:00, 17.81it/s]\n"
     ]
    },
    {
     "name": "stdout",
     "output_type": "stream",
     "text": [
      "Average cross validation score for SVM is 52.0%.\n",
      "Number of support vector for validation set 0: 77\n",
      "Confusion matrix for validation set 0: \n",
      "[[2 0 0 0 0 0]\n",
      " [0 0 0 4 0 3]\n",
      " [0 0 4 0 0 0]\n",
      " [0 0 0 3 0 2]\n",
      " [0 0 0 0 1 1]\n",
      " [0 0 0 0 0 0]]\n",
      "Number of support vector for validation set 1: 79\n",
      "Confusion matrix for validation set 1: \n",
      "[[7 0 1 0 0 0]\n",
      " [0 0 0 2 0 0]\n",
      " [0 0 2 0 0 1]\n",
      " [0 1 0 1 0 1]\n",
      " [0 0 0 0 4 0]\n",
      " [0 0 0 0 0 0]]\n",
      "Number of support vector for validation set 2: 79\n",
      "Confusion matrix for validation set 2: \n",
      "[[6 0 0 0 0 0]\n",
      " [0 0 0 3 0 1]\n",
      " [0 0 2 0 1 1]\n",
      " [0 0 0 2 0 1]\n",
      " [0 0 0 0 3 0]\n",
      " [0 0 0 0 0 0]]\n",
      "Number of support vector for validation set 3: 76\n",
      "Confusion matrix for validation set 3: \n",
      "[[2 0 0 0 0 0]\n",
      " [0 1 1 0 0 1]\n",
      " [1 0 2 0 0 0]\n",
      " [0 4 0 0 0 4]\n",
      " [0 0 0 0 2 2]\n",
      " [0 0 0 0 0 0]]\n",
      "Number of support vector for validation set 4: 79\n",
      "Confusion matrix for validation set 4: \n",
      "[[3 0 1 0 0 0]\n",
      " [0 0 0 4 0 0]\n",
      " [0 0 3 0 1 2]\n",
      " [0 0 0 3 0 1]\n",
      " [0 0 0 0 0 2]\n",
      " [0 0 0 0 0 0]]\n",
      "Over all Confusion matrix for SVM: \n",
      "[[20  0  2  0  0  0]\n",
      " [ 0  1  1 13  0  5]\n",
      " [ 1  0 13  0  2  4]\n",
      " [ 0  5  0  9  0  9]\n",
      " [ 0  0  0  0 10  5]\n",
      " [ 0  0  0  0  0  0]]\n"
     ]
    }
   ],
   "source": [
    "Ytrain, EstParameter, EstConfMatrices, ConfMatrix = MyCrossValidate(train, label, 5)"
   ]
  },
  {
   "cell_type": "code",
   "execution_count": null,
   "metadata": {},
   "outputs": [],
   "source": []
  },
  {
   "cell_type": "code",
   "execution_count": null,
   "metadata": {},
   "outputs": [],
   "source": []
  }
 ],
 "metadata": {
  "kernelspec": {
   "display_name": "Python (ML_2)",
   "language": "python",
   "name": "ml_2"
  },
  "language_info": {
   "codemirror_mode": {
    "name": "ipython",
    "version": 3
   },
   "file_extension": ".py",
   "mimetype": "text/x-python",
   "name": "python",
   "nbconvert_exporter": "python",
   "pygments_lexer": "ipython3",
   "version": "3.6.5"
  }
 },
 "nbformat": 4,
 "nbformat_minor": 2
}
